{
 "cells": [
  {
   "cell_type": "markdown",
   "id": "14e5959b",
   "metadata": {},
   "source": [
    "# Jupyter Notebook Basics Exercise"
   ]
  },
  {
   "cell_type": "markdown",
   "id": "ebb0f72a",
   "metadata": {},
   "source": [
    "## Part 1"
   ]
  },
  {
   "cell_type": "markdown",
   "id": "7bcbf26c",
   "metadata": {},
   "source": [
    "Run the following cell:\n",
    "\n",
    "Führen Sie die folgende Zelle aus:"
   ]
  },
  {
   "cell_type": "code",
   "execution_count": 2,
   "id": "7385ed60",
   "metadata": {},
   "outputs": [],
   "source": [
    "u = \"Cnrt!Yuddi!\"\n",
    "l = 'ogas o i t!'\n",
    "\"\".join(i + j for i, j in zip(u, l))"
   ]
  },
  {
   "cell_type": "markdown",
   "id": "fbe460c6",
   "metadata": {},
   "source": [
    "## Part 2"
   ]
  },
  {
   "cell_type": "code",
   "execution_count": null,
   "id": "8f1871c8",
   "metadata": {},
   "outputs": [],
   "source": [
    "# Replace <YOURNAME> with your name and then run this cell\n",
    "# Ersetzen Sie <YOURNAME> durch Ihren Namen und führen Sie dann diese Zelle aus.\n",
    "\"Wow, <YOURNAME> is the most amazing person on this planet\""
   ]
  },
  {
   "cell_type": "markdown",
   "id": "a3773759",
   "metadata": {},
   "source": [
    "## Part 3\n",
    "Create 3 new empty cells directly below this cell.\n",
    "\n",
    "Erstellen Sie 3 neue leere Zellen direkt unter dieser Zelle."
   ]
  },
  {
   "cell_type": "markdown",
   "id": "afcf76e0",
   "metadata": {},
   "source": [
    "## Part 4"
   ]
  },
  {
   "cell_type": "code",
   "execution_count": null,
   "id": "72c3f438",
   "metadata": {},
   "outputs": [],
   "source": [
    "#Delete this cell!"
   ]
  },
  {
   "cell_type": "code",
   "execution_count": null,
   "id": "490549b0",
   "metadata": {},
   "outputs": [],
   "source": [
    "#Run this cell!\n",
    "print(\"chicken nuggetz\")"
   ]
  },
  {
   "cell_type": "code",
   "execution_count": null,
   "id": "119087d8",
   "metadata": {},
   "outputs": [],
   "source": [
    "#Delete this cell!"
   ]
  },
  {
   "cell_type": "markdown",
   "id": "8a69f782",
   "metadata": {},
   "source": [
    "## Part 5\n",
    "These cells are out of order! Swap their order and then run them both!\n",
    "\n",
    "Diese Zellen sind nicht in der richtigen Reihenfolge! Tausche ihre Reihenfolge und führe sie dann beide aus!"
   ]
  },
  {
   "cell_type": "code",
   "execution_count": null,
   "id": "438045ed",
   "metadata": {},
   "outputs": [],
   "source": [
    "number * number "
   ]
  },
  {
   "cell_type": "code",
   "execution_count": null,
   "id": "0aa084c4",
   "metadata": {},
   "outputs": [],
   "source": [
    "number = 69"
   ]
  },
  {
   "cell_type": "markdown",
   "id": "42feeb96",
   "metadata": {},
   "source": [
    "## Part 6"
   ]
  },
  {
   "cell_type": "markdown",
   "id": "5a2261ba-64ba-423d-9263-11a2aebad3bb",
   "metadata": {},
   "source": [
    "6.1. Provide an example of a module operation that has rest 4 (insert a new cell with the example)\n",
    "\n",
    "Geben Sie ein Beispiel für einen Modulvorgang an, der den Rest 4 hat (fügen Sie eine neue Zelle mit dem Beispiel ein)"
   ]
  },
  {
   "cell_type": "markdown",
   "id": "6ee6342c-cbe8-466e-a1f8-89772327a6bd",
   "metadata": {},
   "source": [
    "6.2. Provide an example of a module operation that has rest 0 (insert a new cell with the example)"
   ]
  },
  {
   "cell_type": "markdown",
   "id": "2e6a17b3-0c00-46c9-a454-1070499a5995",
   "metadata": {},
   "source": [
    "6.3. Provide an example of a module operation that has rest 9 (insert a new cell with the example)"
   ]
  },
  {
   "cell_type": "markdown",
   "id": "aee7a0d9-692b-410c-8c7c-efb5e8bad4a9",
   "metadata": {},
   "source": [
    "## Part 7"
   ]
  },
  {
   "cell_type": "markdown",
   "id": "fa7cfee9-0b2d-43e4-a4fb-b83664a98add",
   "metadata": {},
   "source": [
    "Provide a formula on how this value 8 can be achieved using the power function.\n",
    "\n",
    "Geben Sie eine Formel an, wie dieser Wert 8 mithilfe der Potenzfunktion erreicht werden kann."
   ]
  },
  {
   "cell_type": "markdown",
   "id": "0143b12c-af55-474d-859c-66b20a1b7d64",
   "metadata": {},
   "source": [
    "## Part 8"
   ]
  },
  {
   "cell_type": "markdown",
   "id": "3d715ac2-eb67-49fa-b05f-75ae4c464c64",
   "metadata": {},
   "source": [
    "Provide a float number and store it in a variable (you chose the name). Print the type of this variable? \n",
    "\n",
    "Geben Sie eine Fließkommazahl an und speichern Sie sie in einer Variablen (den Namen haben Sie gewählt). Den Typ dieser Variablen ausgeben? "
   ]
  },
  {
   "cell_type": "markdown",
   "id": "cc5e5ccf-f664-4523-930f-3c06aab9e1bc",
   "metadata": {},
   "source": [
    "## Part 9"
   ]
  },
  {
   "cell_type": "markdown",
   "id": "cfd7ad8e",
   "metadata": {},
   "source": [
    "### Make this cell a python cell and run it (it's markdown right now)\n",
    "\n",
    "### Machen Sie diese Zelle zu einer Python-Zelle und führen Sie sie aus (sie ist im Moment noch in Markdown)\n",
    "\n",
    "\"supercalifragilisticexpialidocious\" * 20"
   ]
  },
  {
   "cell_type": "markdown",
   "id": "3f68b3ac-4b71-45d1-9eac-4090fedc807e",
   "metadata": {},
   "source": [
    "## Part 10"
   ]
  },
  {
   "cell_type": "markdown",
   "id": "2d9ce153-eafc-455c-9d52-8d4c14f1af86",
   "metadata": {},
   "source": [
    "Can we multiply a string with a float? If yes, provide an example.\n",
    "\n",
    "Kann man eine Zeichenkette mit einem Float multiplizieren? Wenn ja, geben Sie ein Beispiel."
   ]
  },
  {
   "cell_type": "markdown",
   "id": "b1eda499",
   "metadata": {},
   "source": [
    "## Part 11"
   ]
  },
  {
   "cell_type": "markdown",
   "id": "a92e9f00-2db4-47cc-b634-aaddb4d7b15a",
   "metadata": {},
   "source": [
    "Can we multiply an integer with a float and then another float? If yes, provide an example.\n",
    "\n",
    "Kann man eine ganze Zahl mit einer Gleitkommazahl und dann mit einer weiteren Gleitkommazahl multiplizieren? Wenn ja, geben Sie ein Beispiel."
   ]
  },
  {
   "cell_type": "markdown",
   "id": "b7519943-2b3f-4828-8ad7-628d90458db3",
   "metadata": {},
   "source": [
    "## Part 8"
   ]
  },
  {
   "cell_type": "code",
   "execution_count": null,
   "id": "3465f27f",
   "metadata": {},
   "outputs": [],
   "source": [
    "# This cell is supposed to print the integers from 9 down to 1 (but it doesnt!)\n",
    "# 1. Run this cell which results in an INFINITE LOOP\n",
    "# 2. Interrupt the infinite loop\n",
    "# 3. Fix the code so that it prints 9,8,7,6,5,4,3,2,1 and run the cell again!\n",
    "\n",
    "# Diese Zelle soll die ganzen Zahlen von 9 bis 1 ausgeben (tut sie aber nicht!)\n",
    "# 1. Führe diese Zelle aus, was zu einer INFINITE LOOP führt\n",
    "# 2. Unterbreche die Endlosschleife\n",
    "# 3. Korrigiere den Code so, dass er 9,8,7,6,5,4,3,2,1 ausgibt und führe die Zelle erneut aus!\n",
    "\n",
    "num = 10 \n",
    "while num > 1:\n",
    "    num+=1\n",
    "    print(num)"
   ]
  },
  {
   "cell_type": "markdown",
   "id": "f1332298",
   "metadata": {},
   "source": [
    "## Part 9\n",
    "Shutdown this notebook, but first add your name to it.\n",
    "\n",
    "Schalten Sie dieses Notebook aus, aber fügen Sie zuerst Ihren Namen hinzu."
   ]
  }
 ],
 "metadata": {
  "kernelspec": {
   "display_name": "Python 3 (ipykernel)",
   "language": "python",
   "name": "python3"
  },
  "language_info": {
   "codemirror_mode": {
    "name": "ipython",
    "version": 3
   },
   "file_extension": ".py",
   "mimetype": "text/x-python",
   "name": "python",
   "nbconvert_exporter": "python",
   "pygments_lexer": "ipython3",
   "version": "3.9.12"
  }
 },
 "nbformat": 4,
 "nbformat_minor": 5
}
